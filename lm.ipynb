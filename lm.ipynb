{
 "cells": [
  {
   "cell_type": "code",
   "execution_count": 7,
   "metadata": {},
   "outputs": [],
   "source": [
    "# Example: reuse your existing OpenAI setup\n",
    "from openai import OpenAI\n",
    "from flask import Flask, request, jsonify"
   ]
  },
  {
   "cell_type": "code",
   "execution_count": 8,
   "metadata": {},
   "outputs": [],
   "source": [
    "# Point to the local server\n",
    "client = OpenAI(base_url=\"http://localhost:1234/v1\", api_key=\"lm-studio\")"
   ]
  },
  {
   "cell_type": "code",
   "execution_count": 9,
   "metadata": {},
   "outputs": [
    {
     "name": "stdout",
     "output_type": "stream",
     "text": [
      " * Serving Flask app '__main__'\n",
      " * Debug mode: off\n"
     ]
    },
    {
     "name": "stderr",
     "output_type": "stream",
     "text": [
      "WARNING: This is a development server. Do not use it in a production deployment. Use a production WSGI server instead.\n",
      " * Running on http://127.0.0.1:4000\n",
      "Press CTRL+C to quit\n",
      "127.0.0.1 - - [14/Jan/2025 10:26:11] \"POST /ask HTTP/1.1\" 200 -\n",
      "127.0.0.1 - - [14/Jan/2025 10:28:04] \"POST /ask HTTP/1.1\" 200 -\n",
      "127.0.0.1 - - [14/Jan/2025 10:28:32] \"POST /ask HTTP/1.1\" 200 -\n",
      "127.0.0.1 - - [14/Jan/2025 10:29:00] \"POST /ask HTTP/1.1\" 200 -\n",
      "127.0.0.1 - - [14/Jan/2025 10:29:46] \"POST /ask HTTP/1.1\" 200 -\n",
      "127.0.0.1 - - [14/Jan/2025 10:32:40] \"POST /ask HTTP/1.1\" 200 -\n",
      "127.0.0.1 - - [14/Jan/2025 10:33:07] \"POST /ask HTTP/1.1\" 200 -\n",
      "127.0.0.1 - - [14/Jan/2025 10:42:00] \"POST /ask HTTP/1.1\" 200 -\n",
      "127.0.0.1 - - [14/Jan/2025 10:42:28] \"POST /ask HTTP/1.1\" 200 -\n",
      "127.0.0.1 - - [14/Jan/2025 10:43:44] \"POST /ask HTTP/1.1\" 200 -\n",
      "127.0.0.1 - - [14/Jan/2025 10:44:30] \"POST /ask HTTP/1.1\" 200 -\n",
      "127.0.0.1 - - [14/Jan/2025 10:46:20] \"POST /ask HTTP/1.1\" 200 -\n",
      "127.0.0.1 - - [14/Jan/2025 10:47:30] \"POST /ask HTTP/1.1\" 200 -\n",
      "127.0.0.1 - - [14/Jan/2025 10:47:54] \"POST /ask HTTP/1.1\" 200 -\n",
      "127.0.0.1 - - [14/Jan/2025 10:48:30] \"POST /ask HTTP/1.1\" 200 -\n"
     ]
    }
   ],
   "source": [
    "app = Flask(__name__)\n",
    "\n",
    "# Hàm giả lập để tạo câu trả lời\n",
    "def generate_answer(context, question):\n",
    "    completion = client.chat.completions.create(\n",
    "        model=\"janhq/Vistral-7b-Chat-GGUF\",\n",
    "        messages=[\n",
    "            {\"role\": \"system\", \"content\": \"Vào vai một người tư vấn sức khỏe y tế, dựa vào ngữ cảnh cung cấp hãy tạo ra câu trả lời cho câu hỏi. Lưu ý câu trả lời chỉ dựa vào ngữ cảnh cung cấp, không sử dụng các nội dung ngoài ngữ cảnh để trả lời và câu trả lời sát câu hỏi nhất có thể.\"},\n",
    "            {\"role\": \"user\", \"content\": f\"\"\"\n",
    "                Ngữ cảnh: {context}\n",
    "                Câu hỏi: {question}\n",
    "                  \"\"\"}\n",
    "        ],\n",
    "        temperature=0.7,\n",
    "    )\n",
    "    return completion.choices[0].message.content\n",
    "\n",
    "@app.route('/')\n",
    "def home():\n",
    "    return \"Vui lòng gửi yêu cầu POST tới /ask với dữ liệu 'context' và 'question'.\"\n",
    "\n",
    "@app.route('/ask', methods=['POST'])\n",
    "def ask_question():\n",
    "    # Nhận dữ liệu từ máy khách (JSON chứa 'context' và 'question')\n",
    "    data = request.get_json()\n",
    "    context = data.get('context')\n",
    "    question = data.get('question')\n",
    "    \n",
    "    if not context or not question:\n",
    "        return jsonify({\"error\": \"Cần cung cấp cả context và question!\"}), 400\n",
    "\n",
    "    # Xử lý và tạo câu trả lời\n",
    "    answer = generate_answer(context, question)\n",
    "    \n",
    "    # Trả lại câu trả lời dưới dạng JSON\n",
    "    return jsonify({\"answer\": answer})\n",
    "\n",
    "if __name__ == \"__main__\":\n",
    "    app.run(port=4000)  # Máy chủ chạy trên cổng 4000\n",
    "    \n"
   ]
  }
 ],
 "metadata": {
  "kernelspec": {
   "display_name": "base",
   "language": "python",
   "name": "python3"
  },
  "language_info": {
   "codemirror_mode": {
    "name": "ipython",
    "version": 3
   },
   "file_extension": ".py",
   "mimetype": "text/x-python",
   "name": "python",
   "nbconvert_exporter": "python",
   "pygments_lexer": "ipython3",
   "version": "3.12.4"
  }
 },
 "nbformat": 4,
 "nbformat_minor": 2
}
